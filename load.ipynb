{
 "cells": [
  {
   "cell_type": "code",
   "execution_count": 2,
   "metadata": {},
   "outputs": [
    {
     "name": "stderr",
     "output_type": "stream",
     "text": [
      "c:\\Users\\melon\\miniconda3\\envs\\rag\\lib\\site-packages\\tqdm\\auto.py:21: TqdmWarning: IProgress not found. Please update jupyter and ipywidgets. See https://ipywidgets.readthedocs.io/en/stable/user_install.html\n",
      "  from .autonotebook import tqdm as notebook_tqdm\n"
     ]
    }
   ],
   "source": [
    "from dotenv import load_dotenv\n",
    "load_dotenv()\n",
    "import os\n",
    "import google.generativeai as genai\n",
    "from pinecone import Pinecone, ServerlessSpec"
   ]
  },
  {
   "cell_type": "code",
   "execution_count": 7,
   "metadata": {},
   "outputs": [],
   "source": [
    "pc = Pinecone(api_key=os.getenv(\"PINECONE_API_KEY\"))\n",
    "pc.create_index(\n",
    "    name=\"rag\", dimension= 768, metric=\"cosine\", spec=ServerlessSpec(cloud=\"aws\", region=\"us-east-1\")\n",
    ")"
   ]
  },
  {
   "cell_type": "code",
   "execution_count": 4,
   "metadata": {},
   "outputs": [
    {
     "data": {
      "text/plain": [
       "[{'professor': 'Dr. Sarah Thompson',\n",
       "  'subject': 'Calculus',\n",
       "  'stars': 4,\n",
       "  'review': 'Dr. Thompson explains complex topics clearly, but the exams are challenging.'},\n",
       " {'professor': 'Professor Michael Richards',\n",
       "  'subject': 'Literature',\n",
       "  'stars': 5,\n",
       "  'review': 'One of the best literature professors. His passion for the subject is contagious.'},\n",
       " {'professor': 'Dr. Linda Carter',\n",
       "  'subject': 'Chemistry',\n",
       "  'stars': 3,\n",
       "  'review': 'Her lectures are informative but often rushed. Labs are well organized.'},\n",
       " {'professor': 'Professor John Blake',\n",
       "  'subject': 'History',\n",
       "  'stars': 2,\n",
       "  'review': 'Not very engaging and assignments are vague.'},\n",
       " {'professor': 'Dr. Emily Cooper',\n",
       "  'subject': 'Physics',\n",
       "  'stars': 4,\n",
       "  'review': 'Great lecturer, but problem sets are tough.'},\n",
       " {'professor': 'Professor Alan Gray',\n",
       "  'subject': 'Philosophy',\n",
       "  'stars': 5,\n",
       "  'review': 'Thought-provoking discussions and fair grading.'},\n",
       " {'professor': 'Dr. Maria Garcia',\n",
       "  'subject': 'Biology',\n",
       "  'stars': 3,\n",
       "  'review': 'Lectures are detailed, but tests are difficult.'},\n",
       " {'professor': 'Professor Richard Lee',\n",
       "  'subject': 'Economics',\n",
       "  'stars': 4,\n",
       "  'review': 'Very knowledgeable, but lectures can be a bit dry.'},\n",
       " {'professor': 'Dr. Karen Mitchell',\n",
       "  'subject': 'Psychology',\n",
       "  'stars': 5,\n",
       "  'review': 'Engaging and passionate about the subject.'},\n",
       " {'professor': 'Professor George Miller',\n",
       "  'subject': 'Computer Science',\n",
       "  'stars': 3,\n",
       "  'review': 'Good content, but lacks hands-on examples.'},\n",
       " {'professor': 'Dr. Elizabeth Davis',\n",
       "  'subject': 'Statistics',\n",
       "  'stars': 4,\n",
       "  'review': 'Clear explanations, but the pace is fast.'},\n",
       " {'professor': 'Professor Robert Walker',\n",
       "  'subject': 'Political Science',\n",
       "  'stars': 2,\n",
       "  'review': 'Lectures are dull and assignments are unclear.'},\n",
       " {'professor': 'Dr. James Wilson',\n",
       "  'subject': 'Sociology',\n",
       "  'stars': 5,\n",
       "  'review': 'Insightful and inspiring. Highly recommend.'},\n",
       " {'professor': 'Professor Nancy Adams',\n",
       "  'subject': 'Art History',\n",
       "  'stars': 4,\n",
       "  'review': 'Passionate and knowledgeable, but heavy reading load.'},\n",
       " {'professor': 'Dr. Steven King',\n",
       "  'subject': 'Mathematics',\n",
       "  'stars': 3,\n",
       "  'review': 'Content is solid, but lectures can be monotonous.'},\n",
       " {'professor': 'Professor Alice Morgan',\n",
       "  'subject': 'Environmental Science',\n",
       "  'stars': 5,\n",
       "  'review': 'Very engaging with practical examples.'},\n",
       " {'professor': 'Dr. Patricia Roberts',\n",
       "  'subject': 'Business',\n",
       "  'stars': 4,\n",
       "  'review': 'Challenging assignments but fair grading.'},\n",
       " {'professor': 'Professor William Harris',\n",
       "  'subject': 'Anthropology',\n",
       "  'stars': 3,\n",
       "  'review': 'Interesting topics, but lectures can be dry.'},\n",
       " {'professor': 'Dr. Barbara Johnson',\n",
       "  'subject': 'Engineering',\n",
       "  'stars': 4,\n",
       "  'review': 'Good instructor, but labs can be overwhelming.'},\n",
       " {'professor': 'Professor Thomas Clark',\n",
       "  'subject': 'Music Theory',\n",
       "  'stars': 5,\n",
       "  'review': 'Incredible knowledge and passion for the subject.'}]"
      ]
     },
     "execution_count": 4,
     "metadata": {},
     "output_type": "execute_result"
    }
   ],
   "source": [
    "import json\n",
    "data=json.load(open(\"reviews.json\"))\n",
    "data['reviews']"
   ]
  },
  {
   "cell_type": "code",
   "execution_count": 5,
   "metadata": {},
   "outputs": [],
   "source": [
    "processed_data=[]\n",
    "genai.configure(api_key=os.environ[\"GEMINI_API_KEY\"])\n",
    "model = genai.GenerativeModel('gemini-1.5-flash')\n",
    "\n",
    "for review in data['reviews']:\n",
    "    response=genai.embed_content(\n",
    "        model=\"models/text-embedding-004\", \n",
    "        content=review['review'],\n",
    "        )\n",
    "    embedding = response['embedding']\n",
    "    processed_data.append({\n",
    "        \"values\": embedding,\n",
    "        \"id\": review[\"professor\"],\n",
    "        \"metadata\": {\n",
    "            \"review\": review[\"review\"],\n",
    "            \"subject\": review[\"subject\"],\n",
    "            \"stars\": review[\"stars\"]\n",
    "        }\n",
    "    })"
   ]
  },
  {
   "cell_type": "code",
   "execution_count": 8,
   "metadata": {},
   "outputs": [
    {
     "data": {
      "text/plain": [
       "{'upserted_count': 20}"
      ]
     },
     "execution_count": 8,
     "metadata": {},
     "output_type": "execute_result"
    }
   ],
   "source": [
    "index=pc.Index(\"rag\")\n",
    "index.upsert(\n",
    "    vectors=processed_data,\n",
    "    namespace=\"ns1\"\n",
    ")"
   ]
  },
  {
   "cell_type": "code",
   "execution_count": 35,
   "metadata": {},
   "outputs": [
    {
     "data": {
      "text/plain": [
       "{'dimension': 768,\n",
       " 'index_fullness': 0.0,\n",
       " 'namespaces': {'ns1': {'vector_count': 20}},\n",
       " 'total_vector_count': 20}"
      ]
     },
     "execution_count": 35,
     "metadata": {},
     "output_type": "execute_result"
    }
   ],
   "source": [
    "index.describe_index_stats()"
   ]
  }
 ],
 "metadata": {
  "kernelspec": {
   "display_name": "rag",
   "language": "python",
   "name": "python3"
  },
  "language_info": {
   "codemirror_mode": {
    "name": "ipython",
    "version": 3
   },
   "file_extension": ".py",
   "mimetype": "text/x-python",
   "name": "python",
   "nbconvert_exporter": "python",
   "pygments_lexer": "ipython3",
   "version": "3.10.14"
  }
 },
 "nbformat": 4,
 "nbformat_minor": 2
}
